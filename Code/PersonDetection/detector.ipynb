{
 "cells": [
  {
   "cell_type": "code",
   "execution_count": 1,
   "metadata": {},
   "outputs": [
    {
     "name": "stdout",
     "output_type": "stream",
     "text": [
      "load checkpoint from local path: checkpoints/faster_rcnn_r50_caffe_fpn_mstrain_3x_coco_20210526_095054-1f77628b.pth\n"
     ]
    },
    {
     "name": "stderr",
     "output_type": "stream",
     "text": [
      "d:\\tuc\\Github\\PersonDetection\\mmdet\\datasets\\utils.py:66: UserWarning: \"ImageToTensor\" pipeline is replaced by \"DefaultFormatBundle\" for batch inference. It is recommended to manually replace it in the test data pipeline in your config file.\n",
      "  warnings.warn(\n"
     ]
    }
   ],
   "source": [
    "from Model import *\n",
    "\n",
    "videopath = 'demo/crazy.mp4'\n",
    "model = Cocomodel()\n",
    "results = compute(model,videopath)"
   ]
  },
  {
   "cell_type": "code",
   "execution_count": 4,
   "metadata": {},
   "outputs": [
    {
     "name": "stdout",
     "output_type": "stream",
     "text": [
      "C:\\Users\\msi\\Desktop\\VideoTo3dPoseAndBvh\\outputs\\outputvideo\\alpha_pose_desert\\vis\\\n"
     ]
    }
   ],
   "source": [
    "path = \"C:\\\\Users\\\\msi\\\\Desktop\\\\VideoTo3dPoseAndBvh\\\\outputs\\\\outputvideo\\\\alpha_pose_desert\\\\vis\\\\*.jpg\"\n",
    "folder = path.split('*')[0]\n",
    "print(folder)"
   ]
  },
  {
   "cell_type": "code",
   "execution_count": 13,
   "metadata": {},
   "outputs": [],
   "source": [
    "from tqdm import tqdm\n",
    "import numpy as np\n",
    "\n",
    "file = 'videonpy/crazy.bvh'\n",
    "positions = np.load('videoPos.npy')\n",
    "positions = positions / 20\n",
    "data = open(file, 'r')\n",
    "Lines = data.readlines()\n",
    "motion = False\n",
    "Edited = []\n",
    "counter = 0\n",
    "firstline = True\n",
    "for n,line in enumerate(Lines) :\n",
    "\n",
    "    if ( line.__contains__('Frame Time:')):\n",
    "        motion = True\n",
    "        Edited.append(line)\n",
    "        continue\n",
    "    if motion :\n",
    "        pos = line.split(\" \")\n",
    "        l = ''\n",
    "        pos  = [float(i) for i in pos]\n",
    "        if firstline:\n",
    "            firstline = False\n",
    "            xyz = pos[0:3] + positions[0]\n",
    "            y = pos[1]\n",
    "\n",
    "        for i in range(0,3): \n",
    "            pos[i] = positions[counter][i] - xyz[i]\n",
    "            # if i ==1:\n",
    "            #     pos[i] = y -pos[i]\n",
    "            #     pos[i] *=2000\n",
    "            #     pos[i] += y \n",
    "            # else :\n",
    "            #     pos[i] *=2000\n",
    "\n",
    "        counter +=1\n",
    "        for n,i in enumerate(pos):\n",
    "            if n == len(pos) -1:\n",
    "                l += str(i) + '\\n'\n",
    "            else:\n",
    "                l += str(i) + ' '\n",
    "        Edited.append(l)\n",
    "    else:\n",
    "        Edited.append(line)\n",
    "try:\n",
    "\n",
    "    bvh_path = 'new_kid.bvh'\n",
    "    geeky_file = open(bvh_path, 'wt')\n",
    "    frame=0\n",
    "    for line in Edited:\n",
    "            geeky_file.write(str(line))\n",
    "    geeky_file.close()\n",
    "except:\n",
    "    print(\"Unable to write to file\")\n"
   ]
  },
  {
   "cell_type": "code",
   "execution_count": null,
   "metadata": {},
   "outputs": [],
   "source": [
    "print(max(positions[:,0]), max(positions[:,1]), max(positions[:,2]))\n",
    "print(min(positions[:,0]), min(positions[:,1]), min(positions[:,2]))"
   ]
  },
  {
   "cell_type": "code",
   "execution_count": 2,
   "metadata": {},
   "outputs": [
    {
     "name": "stdout",
     "output_type": "stream",
     "text": [
      "hi\n",
      "None\n"
     ]
    }
   ],
   "source": [
    "def test(name):\n",
    "    if name == 'hi':\n",
    "        print(name)\n",
    "\n",
    "n = test('hi')\n",
    "print(n)"
   ]
  }
 ],
 "metadata": {
  "interpreter": {
   "hash": "02d7acde8ede9d37edbeb86a45b7811f1cbcb38271d3cc6c2950268d9b2209cf"
  },
  "kernelspec": {
   "display_name": "Python 3.7.11 ('open-mmlab')",
   "language": "python",
   "name": "python3"
  },
  "language_info": {
   "codemirror_mode": {
    "name": "ipython",
    "version": 3
   },
   "file_extension": ".py",
   "mimetype": "text/x-python",
   "name": "python",
   "nbconvert_exporter": "python",
   "pygments_lexer": "ipython3",
   "version": "3.9.7"
  },
  "orig_nbformat": 4
 },
 "nbformat": 4,
 "nbformat_minor": 2
}
