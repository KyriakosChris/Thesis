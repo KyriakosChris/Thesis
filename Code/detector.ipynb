{
 "cells": [
  {
   "cell_type": "code",
   "execution_count": 2,
   "metadata": {},
   "outputs": [
    {
     "data": {
      "text/plain": [
       "'d:\\\\tuc\\\\Github\\\\Thesis\\\\Code'"
      ]
     },
     "execution_count": 2,
     "metadata": {},
     "output_type": "execute_result"
    }
   ],
   "source": [
    "os.chdir(\"..\")\n",
    "os.getcwd()"
   ]
  },
  {
   "cell_type": "code",
   "execution_count": 1,
   "metadata": {},
   "outputs": [
    {
     "ename": "ModuleNotFoundError",
     "evalue": "No module named 'videopose'",
     "output_type": "error",
     "traceback": [
      "\u001b[1;31m---------------------------------------------------------------------------\u001b[0m",
      "\u001b[1;31mModuleNotFoundError\u001b[0m                       Traceback (most recent call last)",
      "\u001b[1;32m~\\AppData\\Local\\Temp/ipykernel_29956/2502731510.py\u001b[0m in \u001b[0;36m<module>\u001b[1;34m\u001b[0m\n\u001b[1;32m----> 1\u001b[1;33m \u001b[1;32mfrom\u001b[0m \u001b[0mPoseEstimation\u001b[0m\u001b[1;33m.\u001b[0m\u001b[0mmain\u001b[0m \u001b[1;32mimport\u001b[0m \u001b[1;33m*\u001b[0m\u001b[1;33m\u001b[0m\u001b[1;33m\u001b[0m\u001b[0m\n\u001b[0m\u001b[0;32m      2\u001b[0m \u001b[0mpose\u001b[0m\u001b[1;33m(\u001b[0m\u001b[1;33m)\u001b[0m\u001b[1;33m\u001b[0m\u001b[1;33m\u001b[0m\u001b[0m\n",
      "\u001b[1;32md:\\tuc\\Github\\Thesis\\Code\\PoseEstimation\\main.py\u001b[0m in \u001b[0;36m<module>\u001b[1;34m\u001b[0m\n\u001b[1;32m----> 1\u001b[1;33m \u001b[1;32mfrom\u001b[0m \u001b[0mvideopose\u001b[0m \u001b[1;32mimport\u001b[0m \u001b[1;33m*\u001b[0m\u001b[1;33m\u001b[0m\u001b[1;33m\u001b[0m\u001b[0m\n\u001b[0m\u001b[0;32m      2\u001b[0m \u001b[1;33m\u001b[0m\u001b[0m\n\u001b[0;32m      3\u001b[0m \u001b[1;32mdef\u001b[0m \u001b[0mpose\u001b[0m\u001b[1;33m(\u001b[0m\u001b[1;33m)\u001b[0m\u001b[1;33m:\u001b[0m\u001b[1;33m\u001b[0m\u001b[1;33m\u001b[0m\u001b[0m\n\u001b[0;32m      4\u001b[0m     \u001b[0minference_video\u001b[0m\u001b[1;33m(\u001b[0m\u001b[1;34m'outputs/inputvideo/kunkun_cut_one_second.mp4'\u001b[0m\u001b[1;33m,\u001b[0m \u001b[1;34m'alpha_pose'\u001b[0m\u001b[1;33m)\u001b[0m\u001b[1;33m\u001b[0m\u001b[1;33m\u001b[0m\u001b[0m\n",
      "\u001b[1;31mModuleNotFoundError\u001b[0m: No module named 'videopose'"
     ]
    }
   ],
   "source": [
    "from PoseEstimation.main import *\n",
    "pose()"
   ]
  },
  {
   "cell_type": "code",
   "execution_count": 13,
   "metadata": {},
   "outputs": [
    {
     "name": "stdout",
     "output_type": "stream",
     "text": [
      "d:\\tuc\\Github\\Thesis\\Code\\PoseEstimation\n"
     ]
    },
    {
     "name": "stderr",
     "output_type": "stream",
     "text": [
      "usage: ipykernel_launcher.py [-h] [-d NAME] [-k NAME] [-str LIST] [-ste LIST]\n",
      "                             [-sun LIST] [-a LIST] [-c PATH]\n",
      "                             [--checkpoint-frequency N] [-r FILENAME]\n",
      "                             [--evaluate FILENAME] [--render] [--by-subject]\n",
      "                             [--export-training-curves] [-s N] [-e N] [-b N]\n",
      "                             [-drop P] [-lr LR] [-lrd LR] [-no-da] [-no-tta]\n",
      "                             [-arc LAYERS] [--causal] [-ch N]\n",
      "                             [--subset FRACTION] [--downsample FACTOR]\n",
      "                             [--warmup N] [--no-eval] [--dense]\n",
      "                             [--disable-optimizations] [--linear-projection]\n",
      "                             [--no-bone-length] [--no-proj]\n",
      "                             [--viz-subject STR] [--viz-action STR]\n",
      "                             [--viz-camera N] [--viz-video PATH]\n",
      "                             [--viz-skip N] [--viz-output PATH]\n",
      "                             [--viz-bitrate N] [--viz-no-ground-truth]\n",
      "                             [--viz-limit N] [--viz-downsample N]\n",
      "                             [--viz-size N] [--input-npz INPUT_NPZ]\n",
      "                             [--video INPUT_VIDEO]\n",
      "ipykernel_launcher.py: error: unrecognized arguments: --ip=127.0.0.1 --stdin=9003 --control=9001 --hb=9000 --Session.signature_scheme=\"hmac-sha256\" --Session.key=b\"17e50086-5c11-49b6-8f03-91924ccc3d6d\" --shell=9002 --transport=\"tcp\" --iopub=9004 --f=C:\\Users\\msi\\AppData\\Local\\Temp\\tmp-50444g1wCMLQuMVjB.json\n"
     ]
    },
    {
     "ename": "SystemExit",
     "evalue": "2",
     "output_type": "error",
     "traceback": [
      "An exception has occurred, use %tb to see the full traceback.\n",
      "\u001b[1;31mSystemExit\u001b[0m\u001b[1;31m:\u001b[0m 2\n"
     ]
    },
    {
     "name": "stderr",
     "output_type": "stream",
     "text": [
      "C:\\Users\\msi\\AppData\\Roaming\\Python\\Python39\\site-packages\\IPython\\core\\interactiveshell.py:3465: UserWarning: To exit: use 'exit', 'quit', or Ctrl-D.\n",
      "  warn(\"To exit: use 'exit', 'quit', or Ctrl-D.\", stacklevel=1)\n"
     ]
    }
   ],
   "source": [
    "import os\n",
    "if not os.getcwd().__contains__('PoseEstimation'):\n",
    "    os.chdir(\"PoseEstimation\")\n",
    "print(os.getcwd())\n",
    "from PoseEstimation.main import *\n",
    "pose()"
   ]
  },
  {
   "cell_type": "code",
   "execution_count": 1,
   "metadata": {},
   "outputs": [
    {
     "name": "stdout",
     "output_type": "stream",
     "text": [
      "load checkpoint from local path: checkpoints/faster_rcnn_r50_caffe_fpn_mstrain_3x_coco_20210526_095054-1f77628b.pth\n"
     ]
    },
    {
     "name": "stderr",
     "output_type": "stream",
     "text": [
      "d:\\tuc\\Github\\Thesis\\Code\\PersonDetection\\mmdet\\datasets\\utils.py:66: UserWarning: \"ImageToTensor\" pipeline is replaced by \"DefaultFormatBundle\" for batch inference. It is recommended to manually replace it in the test data pipeline in your config file.\n",
      "  warnings.warn(\n"
     ]
    }
   ],
   "source": [
    "import os\n",
    "if not os.getcwd().__contains__('PositionEstimation'):\n",
    "    os.chdir(\"PositionEstimation\")\n",
    "os.getcwd()\n",
    "from Model import *\n",
    "\n",
    "videopath = 'demo/kunkun_cut_one_second.mp4'\n",
    "model = Cocomodel()\n",
    "filename = videoPath(videopath,'.bvh')\n",
    "results = compute(model,videopath)\n",
    "bvh = BVHedit(filename,results)"
   ]
  },
  {
   "cell_type": "code",
   "execution_count": 4,
   "metadata": {},
   "outputs": [
    {
     "name": "stdout",
     "output_type": "stream",
     "text": [
      "C:\\Users\\msi\\Desktop\\VideoTo3dPoseAndBvh\\outputs\\outputvideo\\alpha_pose_desert\\vis\\\n"
     ]
    }
   ],
   "source": [
    "path = \"C:\\\\Users\\\\msi\\\\Desktop\\\\VideoTo3dPoseAndBvh\\\\outputs\\\\outputvideo\\\\alpha_pose_desert\\\\vis\\\\*.jpg\"\n",
    "folder = path.split('*')[0]\n",
    "print(folder)"
   ]
  },
  {
   "cell_type": "code",
   "execution_count": 2,
   "metadata": {},
   "outputs": [],
   "source": [
    "import numpy as np\n",
    "\n"
   ]
  },
  {
   "cell_type": "code",
   "execution_count": 1,
   "metadata": {},
   "outputs": [
    {
     "name": "stdout",
     "output_type": "stream",
     "text": [
      "d:\\tuc\\Github\\Thesis\\Code\n"
     ]
    }
   ],
   "source": [
    "print(os.getcwd())"
   ]
  },
  {
   "cell_type": "code",
   "execution_count": 6,
   "metadata": {},
   "outputs": [],
   "source": [
    "import cv2\n",
    "import numpy as np\n",
    "\n",
    "keypoints = np.load('keypoints.npy')\n",
    "videopath = 'PositionEstimation/demo/kunkun_cut_one_second.mp4'\n",
    "# Create a VideoCapture object and read from input file\n",
    "cap = cv2.VideoCapture(videopath)\n",
    "\n",
    "# Check if camera opened successfully\n",
    "if (cap.isOpened()== False): \n",
    "    print(\"Error opening video  file\")\n",
    "\n",
    "# Read until video is completed\n",
    "count = 0\n",
    "bvh_pos = []\n",
    "while(cap.isOpened()):\n",
    "    \n",
    "    # Capture frame-by-frame\n",
    "    ret, frame = cap.read()\n",
    "    if ret == True:\n",
    "        xavg = np.average(keypoints[count,:,0])\n",
    "        yavg = np.average(keypoints[count,:,1])\n",
    "        xmin = min(keypoints[count,:,0])\n",
    "        ymin = min(keypoints[count,:,1])\n",
    "        xmax = max(keypoints[count,:,0])\n",
    "        ymax = max(keypoints[count,:,1])\n",
    "        x0 = (xmin+xmax)/2 \n",
    "        y0 = (ymin+ymax)/2\n",
    "        for bone in range(keypoints.shape[1]):\n",
    "            x = keypoints[count][bone][0]\n",
    "            y = keypoints[count][bone][1]\n",
    "        \n",
    "            image = cv2.circle(frame, (int(x),int(y)), radius=3, color=(0, 0, 255), thickness=-1)\n",
    "        image  = cv2.rectangle(frame, (int(xmin),int(ymin)), (int(xmax),int(ymax)), color=(0, 255, 0), thickness =1)\n",
    "        image = cv2.circle(frame, (int(xavg),int(yavg)), radius=3, color=(255, 0, 0), thickness=-1)\n",
    "        # Display the resulting frame\n",
    "        cv2.imshow('Frame', image)\n",
    "        count +=1\n",
    "        # Press Q on keyboard to  exit\n",
    "        if cv2.waitKey(500) & 0xFF == ord('q'):\n",
    "            break\n",
    "\n",
    "    # Break the loop\n",
    "    else: \n",
    "        break\n",
    "\n",
    "# When everything done, release \n",
    "# the video capture object\n",
    "cap.release()\n",
    "\n",
    "# Closes all the frames\n",
    "cv2.destroyAllWindows()\n",
    "#np.save('videoPos',bvh_pos)"
   ]
  },
  {
   "cell_type": "code",
   "execution_count": 15,
   "metadata": {},
   "outputs": [
    {
     "name": "stdout",
     "output_type": "stream",
     "text": [
      "[381.52768 390.19293 374.45035 406.02155 365.08572 425.33575 351.09894\n",
      " 455.82922 325.82574 461.98807 299.8643  413.96524 368.2265  404.7772\n",
      " 332.9075  417.00522 372.99588]\n"
     ]
    }
   ],
   "source": [
    "print(np.average(keypoints[:,:,0], axis=0))"
   ]
  }
 ],
 "metadata": {
  "interpreter": {
   "hash": "02d7acde8ede9d37edbeb86a45b7811f1cbcb38271d3cc6c2950268d9b2209cf"
  },
  "kernelspec": {
   "display_name": "Python 3.7.11 ('open-mmlab')",
   "language": "python",
   "name": "python3"
  },
  "language_info": {
   "codemirror_mode": {
    "name": "ipython",
    "version": 3
   },
   "file_extension": ".py",
   "mimetype": "text/x-python",
   "name": "python",
   "nbconvert_exporter": "python",
   "pygments_lexer": "ipython3",
   "version": "3.9.7"
  },
  "orig_nbformat": 4
 },
 "nbformat": 4,
 "nbformat_minor": 2
}
