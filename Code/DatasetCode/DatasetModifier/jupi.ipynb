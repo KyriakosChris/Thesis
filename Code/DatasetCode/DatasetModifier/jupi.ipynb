{
 "cells": [
  {
   "cell_type": "code",
   "execution_count": 1,
   "metadata": {},
   "outputs": [],
   "source": [
    "from bvh import Bvh\n",
    "with open('D:\\\\tuc\\\\exam10\\\\Thesis\\\\Dataset\\\\07_06.bvh') as f:\n",
    "    mocap = Bvh(f.read())\n",
    "\n"
   ]
  },
  {
   "cell_type": "code",
   "execution_count": 4,
   "metadata": {},
   "outputs": [
    {
     "data": {
      "text/plain": [
       "['reference',\n",
       " 'Hips',\n",
       " 'LHipJoint',\n",
       " 'LeftUpLeg',\n",
       " 'LeftLeg',\n",
       " 'LeftFoot',\n",
       " 'LeftToeBase',\n",
       " 'RHipJoint',\n",
       " 'RightUpLeg',\n",
       " 'RightLeg',\n",
       " 'RightFoot',\n",
       " 'RightToeBase',\n",
       " 'LowerBack',\n",
       " 'Spine',\n",
       " 'Spine1',\n",
       " 'Neck',\n",
       " 'Neck1',\n",
       " 'Head',\n",
       " 'LeftShoulder',\n",
       " 'LeftArm',\n",
       " 'LeftForeArm',\n",
       " 'LeftHand',\n",
       " 'LeftFingerBase',\n",
       " 'LeftHandIndex1',\n",
       " 'LThumb',\n",
       " 'RightShoulder',\n",
       " 'RightArm',\n",
       " 'RightForeArm',\n",
       " 'RightHand',\n",
       " 'RightFingerBase',\n",
       " 'RightHandIndex1',\n",
       " 'RThumb']"
      ]
     },
     "execution_count": 4,
     "metadata": {},
     "output_type": "execute_result"
    }
   ],
   "source": [
    "mocap.get_joints_names()"
   ]
  },
  {
   "cell_type": "code",
   "execution_count": 2,
   "metadata": {},
   "outputs": [
    {
     "name": "stdout",
     "output_type": "stream",
     "text": [
      "0 0 0 0 0 -0 42.6231 91.7159 -227.652 0 0 -0 0 0 0 0 0 -0 10.4754 -9.81838 4.79639 -21 0 -0 13.368 -36.7282 0 0 0 -0 14.2955 -39.2765 0 0 0 -0 0.899435 -2.47117 10.9787 0 0 -0 0 0 0 0 0 -0 -9.49936 -9.81838 4.79639 21 0 -0 -13.8124 -37.9492 0 0 0 -0 -13.7635 -37.8148 0 0 0 -0 -1.17708 -3.23396 11.4114 0 0 -0 0 0 0 0 0 -0 -0.0880526 12.6418 -0.20952 0 0 -0 0.309878 12.3739 -1.07729 0 0 -0 0 0 0 -0 -16 -0 -0.700075 8.08097 1.55701 0 21 -0 1.00781 8.25059 -1.83883 0 11 -0 0 0 0 0 0 -0 18.4939 4.83353 0.304572 -8 0 -0 28.0388 2.00529e-14 0 0 0 -0 18.9511 -2.00529e-14 0 0 0 -0 0 0 0 0 0 -0 4.49842 0 0 0 0 -0 0 0 0 0 0 -0 0 0 0 0 0 -0 -18.3124 5.75921 1.95793 8 0 -0 -29.4558 -2.00529e-14 0 0 0 -0 -18.9936 2.00529e-14 0 0 0 -0 0 0 0 0 0 -0 -3.50201 -2.00529e-14 0 0 0 -0 0 0 0 0 0 -0 \n",
      "\n"
     ]
    }
   ],
   "source": [
    "# reading the data from the file\n",
    "from typing import Counter\n",
    "\n",
    "\n",
    "data = open('D:\\\\tuc\\\\exam10\\\\Thesis\\\\Dataset\\\\07_06.bvh', 'r')\n",
    "Lines = data.readlines()\n",
    "Edited = []\n",
    "for n,line in enumerate(Lines) :\n",
    "    if n == 1 or n == 2 or n == 3 or n == 4 or n == 188:\n",
    "        continue\n",
    "    if n>191 :\n",
    "      print(line)\n",
    "      break\n",
    "      continue\n",
    "    else:\n",
    "       # print(line)\n",
    "        Edited.append(str(line))"
   ]
  }
 ],
 "metadata": {
  "interpreter": {
   "hash": "ac59ebe37160ed0dfa835113d9b8498d9f09ceb179beaac4002f036b9467c963"
  },
  "kernelspec": {
   "display_name": "Python 3.9.6 64-bit",
   "language": "python",
   "name": "python3"
  },
  "language_info": {
   "codemirror_mode": {
    "name": "ipython",
    "version": 3
   },
   "file_extension": ".py",
   "mimetype": "text/x-python",
   "name": "python",
   "nbconvert_exporter": "python",
   "pygments_lexer": "ipython3",
   "version": "3.9.6"
  },
  "orig_nbformat": 4
 },
 "nbformat": 4,
 "nbformat_minor": 2
}
