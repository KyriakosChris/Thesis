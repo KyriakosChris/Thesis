{
 "cells": [
  {
   "cell_type": "code",
   "execution_count": 1,
   "metadata": {},
   "outputs": [
    {
     "name": "stdout",
     "output_type": "stream",
     "text": [
      "(1073, 3198, 31, 6)\n"
     ]
    }
   ],
   "source": [
    "import numpy as np\n",
    "import pickle\n",
    "import glob\n",
    "from numpy.lib.function_base import average\n",
    "from numpy import load\n",
    "from numpy import save\n",
    "from tqdm import tqdm\n",
    "\n",
    "\n",
    "from sklearn.preprocessing import OneHotEncoder\n",
    "ohe = OneHotEncoder()\n",
    "y = ohe.fit_transform(y).toarray()\n",
    "\n",
    "path = \"D:\\\\tuc\\\\exam10\\\\Thesis\\\\Dataset\\\\CMU_clips_no_zip.npy\"\n",
    "\n",
    "X = load(path, allow_pickle=True)\n",
    "print(X.shape)\n"
   ]
  }
 ],
 "metadata": {
  "interpreter": {
   "hash": "7d1ea8f21019dc72b32c068575953a468ffcbd46d9db0b50e12eebc98b9944e7"
  },
  "kernelspec": {
   "display_name": "Python 3.8.10 64-bit ('my_env': venv)",
   "language": "python",
   "name": "python3"
  },
  "language_info": {
   "codemirror_mode": {
    "name": "ipython",
    "version": 3
   },
   "file_extension": ".py",
   "mimetype": "text/x-python",
   "name": "python",
   "nbconvert_exporter": "python",
   "pygments_lexer": "ipython3",
   "version": "3.8.8"
  },
  "orig_nbformat": 4
 },
 "nbformat": 4,
 "nbformat_minor": 2
}
