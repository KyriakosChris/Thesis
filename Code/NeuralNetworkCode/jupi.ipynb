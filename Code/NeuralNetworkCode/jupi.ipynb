{
 "cells": [
  {
   "cell_type": "code",
   "execution_count": 2,
   "metadata": {},
   "outputs": [
    {
     "name": "stderr",
     "output_type": "stream",
     "text": [
      "2021-12-31 14:42:55.458449: W tensorflow/stream_executor/platform/default/dso_loader.cc:64] Could not load dynamic library 'libcudart.so.11.0'; dlerror: libcudart.so.11.0: cannot open shared object file: No such file or directory\n",
      "2021-12-31 14:42:55.458490: I tensorflow/stream_executor/cuda/cudart_stub.cc:29] Ignore above cudart dlerror if you do not have a GPU set up on your machine.\n"
     ]
    }
   ],
   "source": [
    "import numpy as np\n",
    "from sklearn.model_selection import train_test_split\n",
    "import numpy as np\n",
    "from sklearn.preprocessing import LabelEncoder\n",
    "import tensorflow as tf\n",
    "from tensorflow.keras.models import Sequential\n",
    "from tensorflow.keras.callbacks import ModelCheckpoint\n",
    "from tensorflow.keras.layers import *\n",
    "from tensorflow.keras import utils\n",
    "from keras.layers import CuDNNLSTM\n",
    "from sklearn.metrics import accuracy_score\n",
    "import matplotlib.pyplot as plt\n"
   ]
  },
  {
   "cell_type": "code",
   "execution_count": 3,
   "metadata": {},
   "outputs": [],
   "source": [
    "#file = \"D:\\\\tuc\\\\exam10\\\\Thesis\\\\Dataset\\\\CMU_clips_no_zip.npy\"\n",
    "file = '/home/kyriakos/Desktop/Projects/Dataset/merged.npy'\n",
    "X = np.load(file, allow_pickle=True)\n",
    "X = np.reshape(X, (X.shape[0], X.shape[1],X.shape[2]*X.shape[3]))\n",
    "X = X/np.max(X)\n",
    "#X=np.abs(X)"
   ]
  },
  {
   "cell_type": "code",
   "execution_count": 3,
   "metadata": {},
   "outputs": [
    {
     "name": "stdout",
     "output_type": "stream",
     "text": [
      "[ 0 53  0 ...  0  0 36]\n"
     ]
    }
   ],
   "source": [
    "\n",
    "#file = \"D:\\\\tuc\\\\exam10\\\\Thesis\\\\Dataset\\\\y.npy\"\n",
    "file = '/home/kyriakos/Desktop/Projects/Dataset/y_class.npy'\n",
    "Y = np.load(file, allow_pickle=True)\n",
    "label_encoder = LabelEncoder()\n",
    "Y = label_encoder.fit_transform(Y)\n",
    "print(Y)\n"
   ]
  },
  {
   "cell_type": "code",
   "execution_count": 4,
   "metadata": {},
   "outputs": [
    {
     "name": "stdout",
     "output_type": "stream",
     "text": [
      "[0. 1. 0. ... 0. 0. 1.]\n"
     ]
    }
   ],
   "source": [
    "file = '/home/kyriakos/Desktop/Projects/Dataset/y.npy'\n",
    "Y = np.load(file, allow_pickle=True)\n",
    "print(Y)"
   ]
  },
  {
   "cell_type": "code",
   "execution_count": 5,
   "metadata": {},
   "outputs": [],
   "source": [
    "X_train,X_test,y_train,y_test = train_test_split(X,Y,test_size = 0.2, random_state = 42)"
   ]
  },
  {
   "cell_type": "code",
   "execution_count": 6,
   "metadata": {},
   "outputs": [],
   "source": [
    "X_train = X_train.reshape(858, 3198, 186,1)\n",
    "y_train = y_train.reshape(858,1)\n",
    "X_test = X_test.reshape(215, 3198, 186,1)\n",
    "y_test = y_test.reshape(215,1)"
   ]
  },
  {
   "cell_type": "code",
   "execution_count": 5,
   "metadata": {},
   "outputs": [
    {
     "name": "stdout",
     "output_type": "stream",
     "text": [
      "(3198, 186, 1)\n"
     ]
    }
   ],
   "source": [
    "print(X_train.shape[1:])"
   ]
  },
  {
   "cell_type": "code",
   "execution_count": 5,
   "metadata": {},
   "outputs": [],
   "source": [
    "del X"
   ]
  },
  {
   "cell_type": "code",
   "execution_count": 9,
   "metadata": {},
   "outputs": [
    {
     "name": "stdout",
     "output_type": "stream",
     "text": [
      "Model: \"sequential_1\"\n",
      "_________________________________________________________________\n",
      " Layer (type)                Output Shape              Param #   \n",
      "=================================================================\n",
      " lstm_2 (LSTM)               (None, 3198, 186)         277512    \n",
      "                                                                 \n",
      " dropout_2 (Dropout)         (None, 3198, 186)         0         \n",
      "                                                                 \n",
      " lstm_3 (LSTM)               (None, 186)               277512    \n",
      "                                                                 \n",
      " dropout_3 (Dropout)         (None, 186)               0         \n",
      "                                                                 \n",
      " flatten_1 (Flatten)         (None, 186)               0         \n",
      "                                                                 \n",
      " dense_1 (Dense)             (None, 1)                 187       \n",
      "                                                                 \n",
      "=================================================================\n",
      "Total params: 555,211\n",
      "Trainable params: 555,211\n",
      "Non-trainable params: 0\n",
      "_________________________________________________________________\n"
     ]
    }
   ],
   "source": [
    "\n",
    "\n",
    "nNeurons = 186\n",
    "output_layers = 68\n",
    "output_layers = 1\n",
    "# creating the NN model\n",
    "model = Sequential()\n",
    "model.add( LSTM( nNeurons,activation = 'tanh' ,return_sequences=True,  input_shape = (3198, 186) ) )\n",
    "model.add( Dropout(0.2))\n",
    "model.add( LSTM( nNeurons ,activation = 'tanh') )\n",
    "model.add( Dropout(0.2))\n",
    "model.add(Flatten())\n",
    "model.add( Dense( output_layers, activation = 'softmax' ) )\n",
    "\n",
    "opt = tf.keras.optimizers.Adam(learning_rate =1e-3, decay=1e-5)\n",
    "model.compile( loss = 'binary_crossentropy',  optimizer = opt, metrics = ['accuracy'] )\n",
    "model.summary()\n",
    "\n",
    "#probability_model = tf.keras.Sequential([model, tf.keras.layers.Softmax()])\n",
    "#filepath = \"weights-improvement-{epoch:02d}-{loss:.4f}-biggeer.hdf5\"\n",
    "#checkpoint = ModelCheckpoint(filepath, monitor='loss', verbose = 1, save_best_only=True, mode = 'min')\n",
    "#callbacks_list = [checkpoint]"
   ]
  },
  {
   "cell_type": "code",
   "execution_count": 10,
   "metadata": {},
   "outputs": [
    {
     "name": "stderr",
     "output_type": "stream",
     "text": [
      "2021-12-31 14:45:16.521379: W tensorflow/core/framework/cpu_allocator_impl.cc:82] Allocation of 2041449696 exceeds 10% of free system memory.\n"
     ]
    },
    {
     "name": "stdout",
     "output_type": "stream",
     "text": [
      "Epoch 1/15\n",
      "858/858 [==============================] - ETA: 0s - loss: 0.7162 - accuracy: 0.5641"
     ]
    },
    {
     "name": "stderr",
     "output_type": "stream",
     "text": [
      "2021-12-31 15:24:13.553413: W tensorflow/core/framework/cpu_allocator_impl.cc:82] Allocation of 511552080 exceeds 10% of free system memory.\n"
     ]
    },
    {
     "name": "stdout",
     "output_type": "stream",
     "text": [
      "858/858 [==============================] - 2412s 3s/step - loss: 0.7162 - accuracy: 0.5641 - val_loss: 0.6713 - val_accuracy: 0.6047\n",
      "Epoch 2/15\n",
      "858/858 [==============================] - 2261s 3s/step - loss: 0.7023 - accuracy: 0.5641 - val_loss: 0.6710 - val_accuracy: 0.6047\n",
      "Epoch 3/15\n",
      "496/858 [================>.............] - ETA: 15:22 - loss: 0.7025 - accuracy: 0.5625"
     ]
    }
   ],
   "source": [
    "\n",
    "history = model.fit(X_train, y_train,validation_data = (X_test,y_test), epochs=15, batch_size=1)\n",
    "#h=model.fit(X_train, y_train, epochs = 30, batch_size=64) #callbacks=callbacks_list)\n",
    "#model.save('cmuclassifier.model')\n",
    "y_pred = model.predict(X_test)\n",
    "\n",
    "#y_pred = model.predict(X_test)"
   ]
  },
  {
   "cell_type": "code",
   "execution_count": 8,
   "metadata": {},
   "outputs": [
    {
     "name": "stderr",
     "output_type": "stream",
     "text": [
      "2021-12-31 14:39:45.470701: W tensorflow/core/framework/cpu_allocator_impl.cc:82] Allocation of 511552080 exceeds 10% of free system memory.\n"
     ]
    },
    {
     "name": "stdout",
     "output_type": "stream",
     "text": [
      "Accuracy is: 0.9302325581395349\n"
     ]
    }
   ],
   "source": [
    "pred = []\n",
    "for i in range(len(y_pred)):\n",
    "    pred.append(np.argmax(y_pred[i]))\n",
    "#Converting one hot encoded test label to label\n",
    "test = []\n",
    "for i in range(len(y_test)):\n",
    "    test.append(np.argmax(y_test[i]))\n",
    "\n",
    "\n",
    "a = accuracy_score(pred,test)\n",
    "print('Accuracy is:', a*100)"
   ]
  },
  {
   "cell_type": "code",
   "execution_count": 11,
   "metadata": {},
   "outputs": [
    {
     "name": "stderr",
     "output_type": "stream",
     "text": [
      "2021-12-28 11:49:16.435990: W tensorflow/core/framework/cpu_allocator_impl.cc:82] Allocation of 2041449696 exceeds 10% of free system memory.\n"
     ]
    },
    {
     "name": "stdout",
     "output_type": "stream",
     "text": [
      "Epoch 1/3\n",
      "7/7 [==============================] - 25s 4s/step - loss: 0.4359 - accuracy: 0.5641 - val_loss: 0.3953 - val_accuracy: 0.6047\n",
      "Epoch 2/3\n",
      "7/7 [==============================] - 25s 4s/step - loss: 0.4359 - accuracy: 0.5641 - val_loss: 0.3953 - val_accuracy: 0.6047\n",
      "Epoch 3/3\n",
      "7/7 [==============================] - 29s 4s/step - loss: 0.4359 - accuracy: 0.5641 - val_loss: 0.3953 - val_accuracy: 0.6047\n"
     ]
    },
    {
     "ename": "KeyError",
     "evalue": "'acc'",
     "output_type": "error",
     "traceback": [
      "\u001b[0;31m---------------------------------------------------------------------------\u001b[0m",
      "\u001b[0;31mKeyError\u001b[0m                                  Traceback (most recent call last)",
      "\u001b[0;32m/tmp/ipykernel_3495/2923070850.py\u001b[0m in \u001b[0;36m<module>\u001b[0;34m\u001b[0m\n\u001b[1;32m      4\u001b[0m \u001b[0;34m\u001b[0m\u001b[0m\n\u001b[1;32m      5\u001b[0m \u001b[0;34m\u001b[0m\u001b[0m\n\u001b[0;32m----> 6\u001b[0;31m \u001b[0mplt\u001b[0m\u001b[0;34m.\u001b[0m\u001b[0mplot\u001b[0m\u001b[0;34m(\u001b[0m\u001b[0mhistory\u001b[0m\u001b[0;34m.\u001b[0m\u001b[0mhistory\u001b[0m\u001b[0;34m[\u001b[0m\u001b[0;34m'acc'\u001b[0m\u001b[0;34m]\u001b[0m\u001b[0;34m)\u001b[0m\u001b[0;34m\u001b[0m\u001b[0;34m\u001b[0m\u001b[0m\n\u001b[0m\u001b[1;32m      7\u001b[0m \u001b[0mplt\u001b[0m\u001b[0;34m.\u001b[0m\u001b[0mplot\u001b[0m\u001b[0;34m(\u001b[0m\u001b[0mhistory\u001b[0m\u001b[0;34m.\u001b[0m\u001b[0mhistory\u001b[0m\u001b[0;34m[\u001b[0m\u001b[0;34m'val_acc'\u001b[0m\u001b[0;34m]\u001b[0m\u001b[0;34m)\u001b[0m\u001b[0;34m\u001b[0m\u001b[0;34m\u001b[0m\u001b[0m\n\u001b[1;32m      8\u001b[0m \u001b[0mplt\u001b[0m\u001b[0;34m.\u001b[0m\u001b[0mtitle\u001b[0m\u001b[0;34m(\u001b[0m\u001b[0;34m'Model accuracy'\u001b[0m\u001b[0;34m)\u001b[0m\u001b[0;34m\u001b[0m\u001b[0;34m\u001b[0m\u001b[0m\n",
      "\u001b[0;31mKeyError\u001b[0m: 'acc'"
     ]
    }
   ],
   "source": [
    "#Converting predictions to label\n",
    "\n",
    "history = model.fit(X_train, y_train,validation_data = (X_test,y_test), epochs=3, batch_size=128)\n",
    "\n",
    "\n",
    "\n",
    "plt.plot(history.history['accuracy'])\n",
    "plt.plot(history.history['val_accuracy'])\n",
    "plt.title('Model accuracy')\n",
    "plt.ylabel('Accuracy')\n",
    "plt.xlabel('Epoch')\n",
    "plt.legend(['Train', 'Test'], loc='upper left')\n",
    "plt.show()\n",
    "\n",
    "plt.plot(history.history['loss']) \n",
    "plt.plot(history.history['val_loss']) \n",
    "plt.title('Model loss') \n",
    "plt.ylabel('Loss') \n",
    "plt.xlabel('Epoch') \n",
    "plt.legend(['Train', 'Test'], loc='upper left') \n",
    "plt.show()\n"
   ]
  },
  {
   "cell_type": "code",
   "execution_count": 2,
   "metadata": {},
   "outputs": [
    {
     "name": "stdout",
     "output_type": "stream",
     "text": [
      "(60000, 28, 28)\n",
      "(28, 28)\n"
     ]
    }
   ],
   "source": [
    "mnist = tf.keras.datasets.mnist  # mnist is a dataset of 28x28 images of handwritten digits and their labels\n",
    "(x_train, y_train),(x_test, y_test) = mnist.load_data()  # unpacks images to x_train/x_test and labels to y_train/y_test\n",
    "\n",
    "x_train = x_train/255.0\n",
    "x_test = x_test/255.0\n",
    "\n",
    "print(x_train.shape)\n",
    "print(x_train[0].shape)"
   ]
  },
  {
   "cell_type": "code",
   "execution_count": 3,
   "metadata": {},
   "outputs": [
    {
     "name": "stdout",
     "output_type": "stream",
     "text": [
      "Model: \"sequential\"\n",
      "_________________________________________________________________\n",
      " Layer (type)                Output Shape              Param #   \n",
      "=================================================================\n",
      " lstm (LSTM)                 (None, 28, 16)            2880      \n",
      "                                                                 \n",
      " dropout (Dropout)           (None, 28, 16)            0         \n",
      "                                                                 \n",
      " lstm_1 (LSTM)               (None, 16)                2112      \n",
      "                                                                 \n",
      " dropout_1 (Dropout)         (None, 16)                0         \n",
      "                                                                 \n",
      " dense (Dense)               (None, 16)                272       \n",
      "                                                                 \n",
      " dropout_2 (Dropout)         (None, 16)                0         \n",
      "                                                                 \n",
      " dense_1 (Dense)             (None, 10)                170       \n",
      "                                                                 \n",
      "=================================================================\n",
      "Total params: 5,434\n",
      "Trainable params: 5,434\n",
      "Non-trainable params: 0\n",
      "_________________________________________________________________\n"
     ]
    }
   ],
   "source": [
    "model = Sequential()\n",
    "model.add(LSTM(16, input_shape=(x_train.shape[1:]), activation='tanh', return_sequences=True))\n",
    "model.add(Dropout(0.2))\n",
    "\n",
    "model.add(LSTM(16, activation='tanh'))\n",
    "model.add(Dropout(0.1))\n",
    "\n",
    "model.add(Dense(16, activation='relu'))\n",
    "model.add(Dropout(0.2))\n",
    "\n",
    "model.add(Dense(10, activation='softmax'))\n",
    "model.summary()"
   ]
  },
  {
   "cell_type": "code",
   "execution_count": 4,
   "metadata": {},
   "outputs": [
    {
     "name": "stdout",
     "output_type": "stream",
     "text": [
      "Epoch 1/3\n",
      "1875/1875 [==============================] - 23s 10ms/step - loss: 1.1201 - accuracy: 0.6109 - val_loss: 0.4455 - val_accuracy: 0.8755\n",
      "Epoch 2/3\n",
      "1875/1875 [==============================] - 17s 9ms/step - loss: 0.5410 - accuracy: 0.8378 - val_loss: 0.2522 - val_accuracy: 0.9310\n",
      "Epoch 3/3\n",
      "1875/1875 [==============================] - 18s 9ms/step - loss: 0.4005 - accuracy: 0.8856 - val_loss: 0.1965 - val_accuracy: 0.9430\n"
     ]
    },
    {
     "data": {
      "text/plain": [
       "<keras.callbacks.History at 0x1b72347e5e0>"
      ]
     },
     "execution_count": 4,
     "metadata": {},
     "output_type": "execute_result"
    }
   ],
   "source": [
    "opt = tf.keras.optimizers.Adam(learning_rate=0.001, decay=1e-6)\n",
    "\n",
    "model.compile(\n",
    "    loss='sparse_categorical_crossentropy',\n",
    "    optimizer=opt,\n",
    "    metrics=['accuracy'],\n",
    ")\n",
    "\n",
    "model.fit(x_train,\n",
    "          y_train,\n",
    "          epochs=3,\n",
    "          validation_data=(x_test, y_test))"
   ]
  }
 ],
 "metadata": {
  "interpreter": {
   "hash": "7d1ea8f21019dc72b32c068575953a468ffcbd46d9db0b50e12eebc98b9944e7"
  },
  "kernelspec": {
   "display_name": "Python 3.8.10 64-bit ('my_env': venv)",
   "language": "python",
   "name": "python3"
  },
  "language_info": {
   "codemirror_mode": {
    "name": "ipython",
    "version": 3
   },
   "file_extension": ".py",
   "mimetype": "text/x-python",
   "name": "python",
   "nbconvert_exporter": "python",
   "pygments_lexer": "ipython3",
   "version": "3.8.10"
  },
  "orig_nbformat": 4
 },
 "nbformat": 4,
 "nbformat_minor": 2
}
